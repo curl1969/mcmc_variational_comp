{
 "cells": [
  {
   "cell_type": "code",
   "execution_count": 1,
   "id": "c5326347",
   "metadata": {},
   "outputs": [
    {
     "name": "stdout",
     "output_type": "stream",
     "text": [
      "Requirement already satisfied: scipy in /Users/arghyadatta/opt/anaconda3/lib/python3.9/site-packages (1.13.1)\n",
      "Requirement already satisfied: numpy<2.3,>=1.22.4 in /Users/arghyadatta/opt/anaconda3/lib/python3.9/site-packages (from scipy) (1.26.4)\n",
      "Note: you may need to restart the kernel to use updated packages.\n"
     ]
    }
   ],
   "source": [
    "pip install scipy\n"
   ]
  },
  {
   "cell_type": "code",
   "execution_count": 2,
   "id": "e9ad3734",
   "metadata": {},
   "outputs": [
    {
     "name": "stdout",
     "output_type": "stream",
     "text": [
      "Requirement already satisfied: numpy in /Users/arghyadatta/opt/anaconda3/lib/python3.9/site-packages (1.26.4)\n",
      "Note: you may need to restart the kernel to use updated packages.\n"
     ]
    }
   ],
   "source": [
    "pip install numpy"
   ]
  },
  {
   "cell_type": "code",
   "execution_count": 3,
   "id": "5d08c12e",
   "metadata": {},
   "outputs": [
    {
     "name": "stdout",
     "output_type": "stream",
     "text": [
      "NumPy version: 1.26.4\n",
      "SciPy version: 1.13.1\n",
      "Python version: 3.9.7 (default, Sep 16 2021, 08:50:36) \n",
      "[Clang 10.0.0 ]\n"
     ]
    }
   ],
   "source": [
    "import sys\n",
    "import numpy as np\n",
    "import scipy\n",
    "\n",
    "print(\"NumPy version:\", np.__version__)\n",
    "print(\"SciPy version:\", scipy.__version__)\n",
    "print(\"Python version:\", sys.version)"
   ]
  },
  {
   "cell_type": "code",
   "execution_count": 23,
   "id": "08cdd87a",
   "metadata": {},
   "outputs": [
    {
     "data": {
      "text/plain": [
       "(array([[1.],\n",
       "        [1.],\n",
       "        [1.],\n",
       "        [1.],\n",
       "        [1.],\n",
       "        [1.],\n",
       "        [1.],\n",
       "        [1.],\n",
       "        [1.],\n",
       "        [1.],\n",
       "        [1.],\n",
       "        [1.]]),\n",
       " 1)"
      ]
     },
     "execution_count": 23,
     "metadata": {},
     "output_type": "execute_result"
    }
   ],
   "source": [
    "n,d,k,tau = 50,12,1,100\n",
    "W,Lambda = np.ones((d, 1)),1\n",
    "W,Lambda"
   ]
  },
  {
   "cell_type": "code",
   "execution_count": 24,
   "id": "5d698888",
   "metadata": {},
   "outputs": [
    {
     "data": {
      "text/plain": [
       "((12, 50), 26.000079468217375)"
      ]
     },
     "execution_count": 24,
     "metadata": {},
     "output_type": "execute_result"
    }
   ],
   "source": [
    "np.random.seed(101) #seed = 41,51,...\n",
    "\n",
    "\n",
    "z = np.random.normal(0, 1, size=(n, 1))\n",
    "x0= np.dot(W,np.transpose(z))\n",
    "norm_of_raw_data = np.linalg.norm(x0,ord=2)\n",
    "x0.shape,norm_of_raw_data"
   ]
  },
  {
   "cell_type": "code",
   "execution_count": 25,
   "id": "259cbe83",
   "metadata": {},
   "outputs": [
    {
     "data": {
      "text/plain": [
       "(12, 50)"
      ]
     },
     "execution_count": 25,
     "metadata": {},
     "output_type": "execute_result"
    }
   ],
   "source": [
    "# Seed\n",
    "np.random.seed(450)\n",
    "\n",
    "mean = np.zeros(d)  \n",
    "cov = (1/tau) * np.eye(d)  \n",
    "E = np.random.multivariate_normal(mean, cov, size= n).T\n",
    "# contaminate \n",
    "x = x0+E\n",
    "x.shape"
   ]
  },
  {
   "cell_type": "code",
   "execution_count": 26,
   "id": "ad5b503c",
   "metadata": {},
   "outputs": [
    {
     "name": "stdout",
     "output_type": "stream",
     "text": [
      "Final values after 20000 iterations:\n",
      "a:\n",
      " [11. 11. 11. 11. 11. 11. 11. 11. 11. 11. 11. 11. 11. 11. 11. 11. 11. 11.\n",
      " 11. 11. 11. 11. 11. 11. 11. 11. 11. 11. 11. 11. 11. 11. 11. 11. 11. 11.\n",
      " 11. 11. 11. 11. 11. 11. 11. 11. 11. 11. 11. 11. 11. 11.]\n",
      "b:\n",
      " [0.08238256 0.07395704 0.11434164 0.05563316 0.11096892 0.05354382\n",
      " 0.0879406  0.10834879 0.12359097 0.08606148 0.13402164 0.08941699\n",
      " 0.09819056 0.07999426 0.076482   0.09167261 0.12009129 0.10227734\n",
      " 0.13839534 0.12092491 0.06584915 0.12162362 0.11846441 0.10841229\n",
      " 0.10915582 0.13157356 0.09905925 0.07620307 0.16094965 0.07212473\n",
      " 0.08912551 0.10343836 0.07097541 0.09458452 0.1115445  0.08256384\n",
      " 0.09635126 0.11780437 0.07419319 0.07702269 0.08454349 0.06347889\n",
      " 0.08533531 0.05107753 0.10879651 0.07798295 0.1399481  0.08489055\n",
      " 0.09717384 0.0958548 ]\n"
     ]
    }
   ],
   "source": [
    "import numpy as np\n",
    "\n",
    "def iterate_k_times(X, n, d, k, tau, nu):\n",
    "   \n",
    "    sigma_w = 1.0\n",
    "    mu_w = 0.1 * np.ones((d, 1))     \n",
    "    mu_z = 0.1 * np.ones((n, 1))      \n",
    "    sigma_z = np.ones((n, 1))\n",
    "    a = np.ones(n) * (nu + d) / 2\n",
    "    b = np.ones(n)\n",
    "    \n",
    "    tr_term = np.zeros((100, 1))\n",
    "    \n",
    "    for _ in range(k):\n",
    "        loc = 0\n",
    "        # Calculate mu_z\n",
    "        Xi = np.diag(tau * a * b)\n",
    "        inv_Xi_mu_z = np.dot(Xi, mu_z)\n",
    "        sigma_w = 1.0 / (np.dot(mu_z.T, inv_Xi_mu_z) + 1)\n",
    "\n",
    "        mu_w = np.dot(X, np.dot(inv_Xi_mu_z, sigma_w))\n",
    "\n",
    "        # Update sigma_z and mu_z for each i\n",
    "        for i in range(n):\n",
    "            \n",
    "            sigma_z[i] = 1.0 / (tau * a[i] * b[i] * (d * sigma_w + np.dot(mu_w.T, mu_w)) + 1)\n",
    "            mu_z[i] = tau * a[i] * b[i] * sigma_z[i] * np.dot(mu_w.T, X[:, i])\n",
    "\n",
    "        # Update a and b\n",
    "        for i in range(n):   \n",
    "            tr_term[i] = (mu_z[i]**2 + sigma_z[i]) * (d * sigma_w + np.dot(mu_w.T, mu_w))\n",
    "            b[i] = 1.0 / (((tau) / 2) * ((np.dot(X[:, i].T, X[:, i]) - np.dot(X[:, i].T, np.dot(mu_w, mu_z[i])) \n",
    "                        - np.dot(mu_z[i].T, np.dot(mu_w.T, X[:, i])) + tr_term[i].item())) + nu / 2)\n",
    "\n",
    "    return sigma_w, mu_w, mu_z, sigma_z, a, b\n",
    "\n",
    "\n",
    "X = x \n",
    "n = 50\n",
    "d = 12\n",
    "k = 20000\n",
    "tau = 100.0\n",
    "nu = 10\n",
    "\n",
    "sigma_w, mu_w, mu_z, sigma_z, a, b = iterate_k_times(X, n, d, k, tau, nu)\n",
    "\n",
    "print(\"Final values after {} iterations:\".format(k))\n",
    "print(\"a:\\n\", a)\n",
    "print(\"b:\\n\", b)\n"
   ]
  },
  {
   "cell_type": "code",
   "execution_count": 27,
   "id": "1850c533",
   "metadata": {},
   "outputs": [
    {
     "data": {
      "text/plain": [
       "0.627197187035614"
      ]
     },
     "execution_count": 27,
     "metadata": {},
     "output_type": "execute_result"
    }
   ],
   "source": [
    "x_estimated= np.dot(mu_w,np.transpose(mu_z))\n",
    "np.linalg.norm((x_estimated-x0),ord=2)"
   ]
  },
  {
   "cell_type": "code",
   "execution_count": 28,
   "id": "46a5b494",
   "metadata": {},
   "outputs": [
    {
     "data": {
      "text/plain": [
       "array([0.37082654, 0.37213701, 0.38253212, 0.376618  , 0.37465504,\n",
       "       0.37951591, 0.37429858, 0.38171413, 0.37436212, 0.37801527,\n",
       "       0.37430142, 0.37587076])"
      ]
     },
     "execution_count": 28,
     "metadata": {},
     "output_type": "execute_result"
    }
   ],
   "source": [
    "x_estimated[:,25]"
   ]
  },
  {
   "cell_type": "code",
   "execution_count": 29,
   "id": "ae8224d6",
   "metadata": {},
   "outputs": [
    {
     "data": {
      "text/plain": [
       "array([0.39052784, 0.39052784, 0.39052784, 0.39052784, 0.39052784,\n",
       "       0.39052784, 0.39052784, 0.39052784, 0.39052784, 0.39052784,\n",
       "       0.39052784, 0.39052784])"
      ]
     },
     "execution_count": 29,
     "metadata": {},
     "output_type": "execute_result"
    }
   ],
   "source": [
    "x0[:,25]"
   ]
  },
  {
   "cell_type": "code",
   "execution_count": null,
   "id": "44bdad91",
   "metadata": {},
   "outputs": [],
   "source": []
  }
 ],
 "metadata": {
  "kernelspec": {
   "display_name": "Python 3 (ipykernel)",
   "language": "python",
   "name": "python3"
  },
  "language_info": {
   "codemirror_mode": {
    "name": "ipython",
    "version": 3
   },
   "file_extension": ".py",
   "mimetype": "text/x-python",
   "name": "python",
   "nbconvert_exporter": "python",
   "pygments_lexer": "ipython3",
   "version": "3.9.7"
  }
 },
 "nbformat": 4,
 "nbformat_minor": 5
}
