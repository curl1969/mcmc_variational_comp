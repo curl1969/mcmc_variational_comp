{
 "cells": [
  {
   "cell_type": "code",
   "execution_count": 1,
   "id": "645a1bed",
   "metadata": {},
   "outputs": [
    {
     "name": "stdout",
     "output_type": "stream",
     "text": [
      "Requirement already satisfied: scipy in /Users/arghyadatta/opt/anaconda3/lib/python3.9/site-packages (1.13.1)\n",
      "Requirement already satisfied: numpy<2.3,>=1.22.4 in /Users/arghyadatta/opt/anaconda3/lib/python3.9/site-packages (from scipy) (1.26.4)\n",
      "Note: you may need to restart the kernel to use updated packages.\n"
     ]
    }
   ],
   "source": [
    "pip install scipy\n"
   ]
  },
  {
   "cell_type": "code",
   "execution_count": 2,
   "id": "e45a86a7",
   "metadata": {},
   "outputs": [
    {
     "name": "stdout",
     "output_type": "stream",
     "text": [
      "Requirement already satisfied: numpy in /Users/arghyadatta/opt/anaconda3/lib/python3.9/site-packages (1.26.4)\n",
      "Note: you may need to restart the kernel to use updated packages.\n"
     ]
    }
   ],
   "source": [
    "pip install numpy"
   ]
  },
  {
   "cell_type": "code",
   "execution_count": 25,
   "id": "e9dba806",
   "metadata": {},
   "outputs": [
    {
     "name": "stdout",
     "output_type": "stream",
     "text": [
      "NumPy version: 1.26.4\n",
      "SciPy version: 1.13.1\n",
      "Python version: 3.9.7 (default, Sep 16 2021, 08:50:36) \n",
      "[Clang 10.0.0 ]\n"
     ]
    }
   ],
   "source": [
    "import sys\n",
    "import numpy as np\n",
    "import scipy\n",
    "\n",
    "print(\"NumPy version:\", np.__version__)\n",
    "print(\"SciPy version:\", scipy.__version__)\n",
    "print(\"Python version:\", sys.version)"
   ]
  },
  {
   "cell_type": "code",
   "execution_count": 13,
   "id": "c4fcc289",
   "metadata": {},
   "outputs": [
    {
     "data": {
      "text/plain": [
       "((12, 50), 26.000079468217375)"
      ]
     },
     "execution_count": 13,
     "metadata": {},
     "output_type": "execute_result"
    }
   ],
   "source": [
    "n,d,k,tau = 50,12,1,100\n",
    "W,Lambda = np.ones((d, k)),np.eye(k)\n",
    "np.random.seed(101) #seed = 41,51,...\n",
    "z = np.random.normal(0, 1, size=(n, k))\n",
    "x0= np.dot(W,np.transpose(z))\n",
    "norm_of_raw_data = np.linalg.norm(x0,ord=2)\n",
    "x0.shape,norm_of_raw_data\n"
   ]
  },
  {
   "cell_type": "code",
   "execution_count": 14,
   "id": "57586116",
   "metadata": {},
   "outputs": [
    {
     "data": {
      "text/plain": [
       "((12, 50), (50, 1))"
      ]
     },
     "execution_count": 14,
     "metadata": {},
     "output_type": "execute_result"
    }
   ],
   "source": [
    "# Seed\n",
    "np.random.seed(450)\n",
    "mean = np.zeros(d)  \n",
    "cov = (1/tau) * np.eye(d)  \n",
    "E = np.random.multivariate_normal(mean, cov, size= n).T\n",
    "# contaminate \n",
    "x = x0+E\n",
    "mu_z = np.full((n, k),0.1)\n",
    "x.shape, mu_z.shape"
   ]
  },
  {
   "cell_type": "code",
   "execution_count": 6,
   "id": "818d8c45",
   "metadata": {},
   "outputs": [
    {
     "name": "stdout",
     "output_type": "stream",
     "text": [
      "Collecting cmdstanpy\n",
      "  Downloading cmdstanpy-1.2.4-py3-none-any.whl (94 kB)\n",
      "\u001b[K     |████████████████████████████████| 94 kB 3.0 MB/s eta 0:00:01\n",
      "\u001b[?25hRequirement already satisfied: tqdm in /Users/arghyadatta/opt/anaconda3/lib/python3.9/site-packages (from cmdstanpy) (4.62.3)\n",
      "Collecting stanio<2.0.0,>=0.4.0\n",
      "  Downloading stanio-0.5.1-py3-none-any.whl (8.1 kB)\n",
      "Requirement already satisfied: numpy>=1.21 in /Users/arghyadatta/opt/anaconda3/lib/python3.9/site-packages (from cmdstanpy) (1.26.4)\n",
      "Requirement already satisfied: pandas in /Users/arghyadatta/opt/anaconda3/lib/python3.9/site-packages (from cmdstanpy) (1.3.4)\n",
      "Requirement already satisfied: python-dateutil>=2.7.3 in /Users/arghyadatta/opt/anaconda3/lib/python3.9/site-packages (from pandas->cmdstanpy) (2.8.2)\n",
      "Requirement already satisfied: pytz>=2017.3 in /Users/arghyadatta/opt/anaconda3/lib/python3.9/site-packages (from pandas->cmdstanpy) (2021.3)\n",
      "Requirement already satisfied: six>=1.5 in /Users/arghyadatta/opt/anaconda3/lib/python3.9/site-packages (from python-dateutil>=2.7.3->pandas->cmdstanpy) (1.16.0)\n",
      "Installing collected packages: stanio, cmdstanpy\n",
      "Successfully installed cmdstanpy-1.2.4 stanio-0.5.1\n",
      "Note: you may need to restart the kernel to use updated packages.\n"
     ]
    }
   ],
   "source": [
    "pip install cmdstanpy\n"
   ]
  },
  {
   "cell_type": "code",
   "execution_count": 4,
   "id": "f9dbb57d",
   "metadata": {},
   "outputs": [
    {
     "name": "stdout",
     "output_type": "stream",
     "text": [
      "CmdStan install directory: /Users/arghyadatta/.cmdstan\n",
      "Installing CmdStan version: 2.35.0\n",
      "Downloading CmdStan version 2.35.0\n",
      "Download successful, file: /var/folders/2x/1nbr4z456238x43xpmlql0nm0000gn/T/tmphu6tw14t\n",
      "Extracting distribution\n",
      "Unpacked download as cmdstan-2.35.0\n",
      "Building version cmdstan-2.35.0, may take several minutes, depending on your system.\n",
      "Installed cmdstan-2.35.0\n",
      "Test model compilation\n"
     ]
    },
    {
     "data": {
      "text/plain": [
       "True"
      ]
     },
     "execution_count": 4,
     "metadata": {},
     "output_type": "execute_result"
    }
   ],
   "source": [
    "import cmdstanpy\n",
    "cmdstanpy.install_cmdstan()\n"
   ]
  },
  {
   "cell_type": "code",
   "execution_count": 5,
   "id": "3d00f088",
   "metadata": {},
   "outputs": [
    {
     "name": "stdout",
     "output_type": "stream",
     "text": [
      "/Users/arghyadatta/.cmdstan/cmdstan-2.35.0\n"
     ]
    }
   ],
   "source": [
    "print(cmdstanpy.cmdstan_path())\n"
   ]
  },
  {
   "cell_type": "code",
   "execution_count": 1,
   "id": "5a17e844",
   "metadata": {},
   "outputs": [
    {
     "ename": "NameError",
     "evalue": "name 'x' is not defined",
     "output_type": "error",
     "traceback": [
      "\u001b[0;31m---------------------------------------------------------------------------\u001b[0m",
      "\u001b[0;31mNameError\u001b[0m                                 Traceback (most recent call last)",
      "\u001b[0;32m/var/folders/2x/1nbr4z456238x43xpmlql0nm0000gn/T/ipykernel_67318/562941615.py\u001b[0m in \u001b[0;36m<module>\u001b[0;34m\u001b[0m\n\u001b[1;32m      2\u001b[0m \u001b[0;32mimport\u001b[0m \u001b[0mcmdstanpy\u001b[0m\u001b[0;34m\u001b[0m\u001b[0;34m\u001b[0m\u001b[0m\n\u001b[1;32m      3\u001b[0m \u001b[0;34m\u001b[0m\u001b[0m\n\u001b[0;32m----> 4\u001b[0;31m \u001b[0mX\u001b[0m \u001b[0;34m=\u001b[0m \u001b[0mx\u001b[0m\u001b[0;34m\u001b[0m\u001b[0;34m\u001b[0m\u001b[0m\n\u001b[0m\u001b[1;32m      5\u001b[0m \u001b[0;34m\u001b[0m\u001b[0m\n\u001b[1;32m      6\u001b[0m \u001b[0;31m# Prepare data for Stan\u001b[0m\u001b[0;34m\u001b[0m\u001b[0;34m\u001b[0m\u001b[0m\n",
      "\u001b[0;31mNameError\u001b[0m: name 'x' is not defined"
     ]
    }
   ],
   "source": [
    "import numpy as np\n",
    "import cmdstanpy\n",
    "\n",
    "X = x\n",
    "\n",
    "\n",
    "stan_data = {\n",
    "    'n': n,\n",
    "    'd': d,\n",
    "    'k': k,\n",
    "    'X': X\n",
    "}\n",
    "\n",
    "\n",
    "stan_model_code = \"\"\"\n",
    "data {\n",
    "  int<lower=1> d;            // number of rows in X\n",
    "  int<lower=1> n;            // number of columns in X\n",
    "  int<lower=1> k;            // rank of W and Z\n",
    "  matrix[d, n] X;            // observed data matrix\n",
    "}\n",
    "\n",
    "parameters {\n",
    "  matrix[d, k] W;            // matrix W of size d x k\n",
    "  matrix[n, k] Z;            // matrix Z of size n x k\n",
    "}\n",
    "\n",
    "model {\n",
    "  // Priors\n",
    "  for (j in 1:k)\n",
    "    W[:, j] ~ normal(0, 1);   // Prior on W\n",
    "  for (i in 1:n)\n",
    "    Z[i, ] ~ normal(0, 1);    // Prior on Z\n",
    "\n",
    "  // Fixed tau = 100\n",
    "  real tau = 100;\n",
    "\n",
    "  // Likelihood\n",
    "  to_vector(X) ~ normal(to_vector(W * Z'), sqrt(1 / tau));\n",
    "}\n",
    "\n",
    "generated quantities {\n",
    "  matrix[d, n] X_hat;\n",
    "  X_hat = W * Z';             // Posterior predictive mean for X\n",
    "}\n",
    "\"\"\"\n",
    "\n",
    "with open('model.stan', 'w') as f:\n",
    "    f.write(stan_model_code)\n",
    "\n",
    "\n",
    "model = cmdstanpy.CmdStanModel(stan_file='model.stan')\n",
    "\n",
    "fit = model.sample(data=stan_data, iter_sampling=2000000, iter_warmup=1000000, chains=4)\n",
    "\n",
    "\n",
    "\n",
    "posterior = fit.stan_variable('X_hat')\n",
    "posterior_mean = np.mean(posterior, axis=0)  # Mean of WZ' with respect to the posterior\n",
    "\n",
    "\n",
    "print(\"Posterior mean of WZ':\")\n",
    "print(posterior_mean)\n"
   ]
  },
  {
   "cell_type": "code",
   "execution_count": 10,
   "id": "24ee4835",
   "metadata": {},
   "outputs": [
    {
     "data": {
      "text/plain": [
       "array([0.37129185, 0.3719278 , 0.38113738, 0.37752904, 0.3752244 ,\n",
       "       0.37893549, 0.37460343, 0.38092507, 0.37405588, 0.37772616,\n",
       "       0.37395984, 0.3745464 ])"
      ]
     },
     "execution_count": 10,
     "metadata": {},
     "output_type": "execute_result"
    }
   ],
   "source": [
    "posterior_mean[:,25]"
   ]
  },
  {
   "cell_type": "code",
   "execution_count": 9,
   "id": "db8bad78",
   "metadata": {},
   "outputs": [
    {
     "data": {
      "text/plain": [
       "array([0.39052784, 0.39052784, 0.39052784, 0.39052784, 0.39052784,\n",
       "       0.39052784, 0.39052784, 0.39052784, 0.39052784, 0.39052784,\n",
       "       0.39052784, 0.39052784])"
      ]
     },
     "execution_count": 9,
     "metadata": {},
     "output_type": "execute_result"
    }
   ],
   "source": [
    "x0[:,25]"
   ]
  },
  {
   "cell_type": "code",
   "execution_count": null,
   "id": "93fe5024",
   "metadata": {},
   "outputs": [],
   "source": []
  },
  {
   "cell_type": "code",
   "execution_count": null,
   "id": "ec31fb8b",
   "metadata": {},
   "outputs": [],
   "source": []
  },
  {
   "cell_type": "code",
   "execution_count": 11,
   "id": "469011a7",
   "metadata": {},
   "outputs": [
    {
     "data": {
      "text/plain": [
       "0.6234491052913236"
      ]
     },
     "execution_count": 11,
     "metadata": {},
     "output_type": "execute_result"
    }
   ],
   "source": [
    "norm_of_esimated_data = np.linalg.norm((posterior_mean-x0),ord=2)\n",
    "norm_of_esimated_data"
   ]
  },
  {
   "cell_type": "code",
   "execution_count": 8,
   "id": "e5545499",
   "metadata": {},
   "outputs": [
    {
     "ename": "SyntaxError",
     "evalue": "invalid syntax (1733841062.py, line 1)",
     "output_type": "error",
     "traceback": [
      "\u001b[0;36m  File \u001b[0;32m\"/var/folders/2x/1nbr4z456238x43xpmlql0nm0000gn/T/ipykernel_58254/1733841062.py\"\u001b[0;36m, line \u001b[0;32m1\u001b[0m\n\u001b[0;31m    nohup python your_script.py > output.log 2>&1 &\u001b[0m\n\u001b[0m          ^\u001b[0m\n\u001b[0;31mSyntaxError\u001b[0m\u001b[0;31m:\u001b[0m invalid syntax\n"
     ]
    }
   ],
   "source": [
    "nohup python your_script.py > output.log 2>&1 &\n"
   ]
  },
  {
   "cell_type": "code",
   "execution_count": 15,
   "id": "3a8ecc51",
   "metadata": {},
   "outputs": [
    {
     "name": "stderr",
     "output_type": "stream",
     "text": [
      "14:39:46 - cmdstanpy - INFO - compiling stan file /Users/arghyadatta/Downloads/Probabilistic-and-Bayesian-PCA-master/model.stan to exe file /Users/arghyadatta/Downloads/Probabilistic-and-Bayesian-PCA-master/model\n",
      "14:40:01 - cmdstanpy - INFO - compiled model executable: /Users/arghyadatta/Downloads/Probabilistic-and-Bayesian-PCA-master/model\n",
      "14:40:01 - cmdstanpy - INFO - Chain [1] start processing\n",
      "14:40:02 - cmdstanpy - INFO - Chain [1] done processing\n",
      "14:40:02 - cmdstanpy - WARNING - The default behavior of CmdStanVB.stan_variable() will change in a future release to return the variational sample, rather than the mean.\n",
      "To maintain the current behavior, pass the argument mean=True\n"
     ]
    },
    {
     "name": "stdout",
     "output_type": "stream",
     "text": [
      "Shape of posterior: (12, 50)\n",
      "Posterior mean of WZ' using ADVI:\n",
      "[[ 2.68378     0.600433    0.920128    0.468091    0.618438   -0.332976\n",
      "  -0.880105    0.612425   -1.99322     0.777021    0.525234   -0.581988\n",
      "   0.204298   -0.711325   -0.946067    0.976658    0.213843    1.93517\n",
      "   2.57431     0.693747    0.315826    1.67821    -1.67384    -1.12186\n",
      "  -0.140636    0.378815    0.100681    0.204716    0.83677     0.0530136\n",
      "   0.601764    0.334502   -0.453476   -0.737807   -0.89534     0.475913\n",
      "  -0.122034    1.85559     0.228403    1.99072    -1.03271     0.180128\n",
      "  -1.12585    -0.00713748  0.977121   -0.152066   -0.0453574   0.657325\n",
      "   2.05782    -0.651598  ]\n",
      " [ 2.67418     0.598284    0.916836    0.466416    0.616225   -0.331784\n",
      "  -0.876956    0.610233   -1.98608     0.774241    0.523355   -0.579906\n",
      "   0.203567   -0.70878    -0.942682    0.973163    0.213078    1.92824\n",
      "   2.5651      0.691265    0.314696    1.6722     -1.66785    -1.11784\n",
      "  -0.140133    0.377459    0.100321    0.203983    0.833776    0.0528239\n",
      "   0.599611    0.333305   -0.451853   -0.735167   -0.892136    0.47421\n",
      "  -0.121598    1.84895     0.227586    1.9836     -1.02902     0.179484\n",
      "  -1.12182    -0.00711194  0.973625   -0.151522   -0.0451951   0.654973\n",
      "   2.05045    -0.649266  ]\n",
      " [ 2.79151     0.624536    0.957065    0.486882    0.643264   -0.346343\n",
      "  -0.915435    0.637009   -2.07323     0.808213    0.546319   -0.605351\n",
      "   0.212499   -0.73988    -0.984045    1.01586     0.222427    2.01285\n",
      "   2.67765     0.721596    0.328504    1.74558    -1.74103    -1.16689\n",
      "  -0.146282    0.394021    0.104723    0.212934    0.87036     0.0551417\n",
      "   0.625921    0.34793    -0.471679   -0.767425   -0.931281    0.495018\n",
      "  -0.126933    1.93008     0.237572    2.07064    -1.07417     0.187359\n",
      "  -1.17105    -0.007424    1.01635    -0.158171   -0.0471782   0.683712\n",
      "   2.14042    -0.677755  ]\n",
      " [ 2.7256      0.609789    0.934466    0.475385    0.628075   -0.338164\n",
      "  -0.893819    0.621967   -2.02428     0.789129    0.533419   -0.591057\n",
      "   0.207481   -0.722409   -0.960809    0.991876    0.217175    1.96532\n",
      "   2.61442     0.704557    0.320748    1.70436    -1.69992    -1.13934\n",
      "  -0.142828    0.384718    0.10225     0.207906    0.849809    0.0538396\n",
      "   0.611141    0.339714   -0.460542   -0.749304   -0.909291    0.483329\n",
      "  -0.123936    1.8845      0.231962    2.02174    -1.0488      0.182935\n",
      "  -1.14339    -0.0072487   0.992347   -0.154436   -0.0460642   0.667568\n",
      "   2.08988    -0.661751  ]\n",
      " [ 2.72851     0.61044     0.935464    0.475893    0.628746   -0.338526\n",
      "  -0.894774    0.622632   -2.02644     0.789972    0.533989   -0.591688\n",
      "   0.207703   -0.723181   -0.961835    0.992936    0.217407    1.96742\n",
      "   2.61722     0.70531     0.32109     1.70618    -1.70173    -1.14056\n",
      "  -0.14298     0.385129    0.102359    0.208128    0.850716    0.0538971\n",
      "   0.611794    0.340077   -0.461034   -0.750104   -0.910263    0.483846\n",
      "  -0.124068    1.88651     0.23221     2.0239     -1.04992     0.183131\n",
      "  -1.14462    -0.00725644  0.993407   -0.154601   -0.0461134   0.668281\n",
      "   2.09211    -0.662458  ]\n",
      " [ 2.81544     0.629889    0.965269    0.491055    0.648778   -0.349311\n",
      "  -0.923283    0.64247    -2.091       0.815141    0.551002   -0.61054\n",
      "   0.214321   -0.746222   -0.99248     1.02457     0.224334    2.03011\n",
      "   2.70061     0.727782    0.33132     1.76054    -1.75595    -1.17689\n",
      "  -0.147536    0.397399    0.105621    0.214759    0.877821    0.0556144\n",
      "   0.631286    0.350912   -0.475723   -0.774003   -0.939264    0.499261\n",
      "  -0.128021    1.94662     0.239609    2.08839    -1.08338     0.188965\n",
      "  -1.18108    -0.00748764  1.02506    -0.159527   -0.0475826   0.689573\n",
      "   2.15877    -0.683565  ]\n",
      " [ 2.70513     0.605209    0.927448    0.471815    0.623358   -0.335625\n",
      "  -0.887107    0.617296   -2.00907     0.783203    0.529413   -0.586618\n",
      "   0.205923   -0.716984   -0.953593    0.984427    0.215544    1.95056\n",
      "   2.59479     0.699266    0.318339    1.69156    -1.68715    -1.13078\n",
      "  -0.141755    0.381828    0.101482    0.206344    0.843427    0.0534353\n",
      "   0.606551    0.337163   -0.457083   -0.743677   -0.902462    0.479699\n",
      "  -0.123005    1.87035     0.23022     2.00656    -1.04093     0.181561\n",
      "  -1.13481    -0.00719426  0.984894   -0.153276   -0.0457182   0.662554\n",
      "   2.07419    -0.656782  ]\n",
      " [ 2.76143     0.617805    0.94675     0.481634    0.636331   -0.34261\n",
      "  -0.905569    0.630144   -2.05089     0.799503    0.540431   -0.598827\n",
      "   0.210209   -0.731906   -0.973439    1.00492     0.22003     1.99116\n",
      "   2.64879     0.713819    0.324964    1.72676    -1.72226    -1.15432\n",
      "  -0.144705    0.389775    0.103594    0.210639    0.86098     0.0545474\n",
      "   0.619175    0.34418    -0.466596   -0.759154   -0.921244    0.489683\n",
      "  -0.125565    1.90927     0.235012    2.04832    -1.06259     0.18534\n",
      "  -1.15843    -0.00734399  1.00539    -0.156466   -0.0466697   0.676343\n",
      "   2.11736    -0.670451  ]\n",
      " [ 2.68505     0.600716    0.920562    0.468312    0.61873    -0.333133\n",
      "  -0.88052     0.612713   -1.99416     0.777388    0.525482   -0.582263\n",
      "   0.204394   -0.711661   -0.946513    0.977118    0.213944    1.93608\n",
      "   2.57553     0.694074    0.315975    1.679      -1.67462    -1.12239\n",
      "  -0.140703    0.378993    0.100729    0.204812    0.837165    0.0530386\n",
      "   0.602048    0.33466    -0.45369    -0.738155   -0.895762    0.476138\n",
      "  -0.122092    1.85646     0.228511    1.99166    -1.0332      0.180213\n",
      "  -1.12638    -0.00714085  0.977582   -0.152138   -0.0453788   0.657635\n",
      "   2.05879    -0.651905  ]\n",
      " [ 2.79529     0.625381    0.95836     0.487541    0.644135   -0.346811\n",
      "  -0.916675    0.637871   -2.07604     0.809307    0.547058   -0.606171\n",
      "   0.212787   -0.740882   -0.985377    1.01724     0.222728    2.01558\n",
      "   2.68128     0.722573    0.328949    1.74794    -1.74338    -1.16847\n",
      "  -0.14648     0.394555    0.104865    0.213222    0.871539    0.0552163\n",
      "   0.626768    0.348401   -0.472318   -0.768464   -0.932542    0.495688\n",
      "  -0.127105    1.93269     0.237894    2.07344    -1.07562     0.187613\n",
      "  -1.17263    -0.00743405  1.01772    -0.158385   -0.047242    0.684638\n",
      "   2.14332    -0.678673  ]\n",
      " [ 2.6885      0.601488    0.921745    0.468914    0.619525   -0.333561\n",
      "  -0.881652    0.613501   -1.99672     0.778387    0.526157   -0.583011\n",
      "   0.204657   -0.712575   -0.947729    0.978374    0.214218    1.93857\n",
      "   2.57883     0.694966    0.316381    1.68116    -1.67678    -1.12383\n",
      "  -0.140883    0.37948     0.100858    0.205076    0.83824     0.0531067\n",
      "   0.602822    0.33509    -0.454273   -0.739104   -0.896913    0.47675\n",
      "  -0.122249    1.85885     0.228805    1.99422    -1.03453     0.180445\n",
      "  -1.12783    -0.00715002  0.978838   -0.152334   -0.0454371   0.65848\n",
      "   2.06143    -0.652743  ]\n",
      " [ 2.68663     0.601071    0.921106    0.468588    0.619095   -0.33333\n",
      "  -0.88104     0.613075   -1.99533     0.777847    0.525792   -0.582607\n",
      "   0.204515   -0.712081   -0.947072    0.977695    0.21407     1.93722\n",
      "   2.57705     0.694484    0.316162    1.67999    -1.67561    -1.12305\n",
      "  -0.140786    0.379217    0.100788    0.204933    0.837659    0.0530699\n",
      "   0.602403    0.334857   -0.453957   -0.738591   -0.896291    0.476419\n",
      "  -0.122164    1.85756     0.228646    1.99284    -1.03381     0.18032\n",
      "  -1.12705    -0.00714506  0.978159   -0.152228   -0.0454056   0.658023\n",
      "   2.06       -0.65229   ]]\n"
     ]
    }
   ],
   "source": [
    "import numpy as np\n",
    "import cmdstanpy\n",
    "\n",
    "X = x  \n",
    "\n",
    "stan_data = {\n",
    "    'n': n,  # Number of columns in X\n",
    "    'd': d,  # Number of rows in X\n",
    "    'k': k,  # Rank of W and Z\n",
    "    'X': X   # Observed data matrix\n",
    "}\n",
    "\n",
    "stan_model_code = \"\"\"\n",
    "data {\n",
    "  int<lower=1> d;            // number of rows in X\n",
    "  int<lower=1> n;            // number of columns in X\n",
    "  int<lower=1> k;            // rank of W and Z\n",
    "  matrix[d, n] X;            // observed data matrix\n",
    "}\n",
    "\n",
    "parameters {\n",
    "  matrix[d, k] W;            // matrix W of size d x k\n",
    "  matrix[n, k] Z;            // matrix Z of size n x k\n",
    "}\n",
    "\n",
    "model {\n",
    "  // Priors\n",
    "  for (j in 1:k)\n",
    "    W[:, j] ~ normal(0, 1);   // Prior on W\n",
    "  for (i in 1:n)\n",
    "    Z[i, ] ~ normal(0, 1);    // Prior on Z\n",
    "\n",
    "  // Fixed tau = 100\n",
    "  real tau = 100;\n",
    "\n",
    "  // Likelihood\n",
    "  to_vector(X) ~ normal(to_vector(W * Z'), sqrt(1 / tau));\n",
    "}\n",
    "\n",
    "generated quantities {\n",
    "  matrix[d, n] X_hat;\n",
    "  X_hat = W * Z';             // Posterior predictive mean for X\n",
    "}\n",
    "\"\"\"\n",
    "\n",
    "\n",
    "with open('model.stan', 'w') as f:\n",
    "    f.write(stan_model_code)\n",
    "\n",
    "\n",
    "model = cmdstanpy.CmdStanModel(stan_file='model.stan')\n",
    "\n",
    "\n",
    "fit = model.variational(data=stan_data, algorithm='meanfield', iter=20000)\n",
    "\n",
    "posterior = fit.stan_variable('X_hat')\n",
    "\n",
    "print(\"Shape of posterior:\", posterior.shape)\n",
    "\n",
    "try:\n",
    "    posterior_mean = posterior.reshape(d, n) \n",
    "    print(\"Posterior mean of WZ' using ADVI:\")\n",
    "    print(posterior_mean)\n",
    "except ValueError as e:\n",
    "    print(f\"Error reshaping posterior: {e}\")\n",
    "    print(\"Posterior:\", posterior)  \n"
   ]
  },
  {
   "cell_type": "code",
   "execution_count": 16,
   "id": "8e8ceafd",
   "metadata": {},
   "outputs": [
    {
     "data": {
      "text/plain": [
       "0.675676528654649"
      ]
     },
     "execution_count": 16,
     "metadata": {},
     "output_type": "execute_result"
    }
   ],
   "source": [
    "norm_of_error_esimated_data = np.linalg.norm((posterior_mean-x0),ord=2)\n",
    "norm_of_error_esimated_data"
   ]
  },
  {
   "cell_type": "code",
   "execution_count": 20,
   "id": "91118a38",
   "metadata": {},
   "outputs": [
    {
     "data": {
      "text/plain": [
       "(12, 50)"
      ]
     },
     "execution_count": 20,
     "metadata": {},
     "output_type": "execute_result"
    }
   ],
   "source": [
    "posterior_mean.shape"
   ]
  },
  {
   "cell_type": "code",
   "execution_count": 17,
   "id": "0e6971ba",
   "metadata": {},
   "outputs": [
    {
     "data": {
      "text/plain": [
       "array([0.378815, 0.377459, 0.394021, 0.384718, 0.385129, 0.397399,\n",
       "       0.381828, 0.389775, 0.378993, 0.394555, 0.37948 , 0.379217])"
      ]
     },
     "execution_count": 17,
     "metadata": {},
     "output_type": "execute_result"
    }
   ],
   "source": [
    "posterior_mean[:,25]"
   ]
  },
  {
   "cell_type": "code",
   "execution_count": 22,
   "id": "aa65bc84",
   "metadata": {},
   "outputs": [
    {
     "name": "stderr",
     "output_type": "stream",
     "text": [
      "16:16:01 - cmdstanpy - INFO - compiling stan file /Users/arghyadatta/Downloads/Probabilistic-and-Bayesian-PCA-master/model.stan to exe file /Users/arghyadatta/Downloads/Probabilistic-and-Bayesian-PCA-master/model\n",
      "16:16:14 - cmdstanpy - INFO - compiled model executable: /Users/arghyadatta/Downloads/Probabilistic-and-Bayesian-PCA-master/model\n",
      "16:16:14 - cmdstanpy - INFO - Chain [1] start processing\n",
      "16:16:15 - cmdstanpy - INFO - Chain [1] done processing\n",
      "16:16:15 - cmdstanpy - WARNING - The default behavior of CmdStanVB.stan_variable() will change in a future release to return the variational sample, rather than the mean.\n",
      "To maintain the current behavior, pass the argument mean=True\n"
     ]
    },
    {
     "name": "stdout",
     "output_type": "stream",
     "text": [
      "Shape of posterior: (12, 50)\n",
      "Posterior mean of WZ' using ADVI:\n",
      "[[ 2.70542e+00  5.94916e-01  9.16690e-01  4.80278e-01  6.48669e-01\n",
      "  -3.16406e-01 -8.80171e-01  6.05445e-01 -2.02007e+00  7.83596e-01\n",
      "   5.26125e-01 -5.66724e-01  2.02049e-01 -7.28705e-01 -9.54017e-01\n",
      "   9.89200e-01  2.46286e-01  1.95278e+00  2.58507e+00  6.90420e-01\n",
      "   3.14749e-01  1.69142e+00 -1.69079e+00 -1.12888e+00 -1.41664e-01\n",
      "   3.69065e-01  1.10503e-01  1.96507e-01  8.31261e-01  8.26300e-02\n",
      "   6.01870e-01  3.27892e-01 -4.80723e-01 -7.58846e-01 -9.14435e-01\n",
      "   4.94298e-01 -1.26154e-01  1.90243e+00  2.42482e-01  2.01451e+00\n",
      "  -1.04492e+00  1.85593e-01 -1.13830e+00  1.06335e-03  9.96131e-01\n",
      "  -1.59111e-01 -4.96640e-02  6.54341e-01  2.08266e+00 -6.52926e-01]\n",
      " [ 2.70134e+00  5.94020e-01  9.15308e-01  4.79554e-01  6.47691e-01\n",
      "  -3.15929e-01 -8.78844e-01  6.04532e-01 -2.01703e+00  7.82415e-01\n",
      "   5.25332e-01 -5.65870e-01  2.01745e-01 -7.27607e-01 -9.52579e-01\n",
      "   9.87709e-01  2.45915e-01  1.94984e+00  2.58117e+00  6.89379e-01\n",
      "   3.14275e-01  1.68887e+00 -1.68825e+00 -1.12718e+00 -1.41451e-01\n",
      "   3.68509e-01  1.10336e-01  1.96211e-01  8.30008e-01  8.25054e-02\n",
      "   6.00963e-01  3.27398e-01 -4.79999e-01 -7.57702e-01 -9.13057e-01\n",
      "   4.93553e-01 -1.25964e-01  1.89956e+00  2.42117e-01  2.01147e+00\n",
      "  -1.04334e+00  1.85314e-01 -1.13659e+00  1.06175e-03  9.94629e-01\n",
      "  -1.58871e-01 -4.95891e-02  6.53355e-01  2.07952e+00 -6.51942e-01]\n",
      " [ 2.76221e+00  6.07405e-01  9.35934e-01  4.90360e-01  6.62286e-01\n",
      "  -3.23048e-01 -8.98647e-01  6.18154e-01 -2.06248e+00  8.00045e-01\n",
      "   5.37170e-01 -5.78621e-01  2.06291e-01 -7.44002e-01 -9.74044e-01\n",
      "   1.00997e+00  2.51456e-01  1.99377e+00  2.63934e+00  7.04913e-01\n",
      "   3.21356e-01  1.72693e+00 -1.72629e+00 -1.15258e+00 -1.44638e-01\n",
      "   3.76813e-01  1.12823e-01  2.00633e-01  8.48711e-01  8.43646e-02\n",
      "   6.14505e-01  3.34776e-01 -4.90815e-01 -7.74776e-01 -9.33631e-01\n",
      "   5.04674e-01 -1.28802e-01  1.94237e+00  2.47572e-01  2.05679e+00\n",
      "  -1.06686e+00  1.89489e-01 -1.16220e+00  1.08567e-03  1.01704e+00\n",
      "  -1.62451e-01 -5.07065e-02  6.68077e-01  2.12638e+00 -6.66632e-01]\n",
      " [ 2.74137e+00  6.02822e-01  9.28872e-01  4.86660e-01  6.57289e-01\n",
      "  -3.20610e-01 -8.91867e-01  6.13490e-01 -2.04691e+00  7.94009e-01\n",
      "   5.33117e-01 -5.74255e-01  2.04734e-01 -7.38389e-01 -9.66695e-01\n",
      "   1.00235e+00  2.49559e-01  1.97873e+00  2.61942e+00  6.99595e-01\n",
      "   3.18932e-01  1.71390e+00 -1.71326e+00 -1.14388e+00 -1.43547e-01\n",
      "   3.73970e-01  1.11971e-01  1.99119e-01  8.42307e-01  8.37280e-02\n",
      "   6.09868e-01  3.32250e-01 -4.87111e-01 -7.68930e-01 -9.26587e-01\n",
      "   5.00867e-01 -1.27830e-01  1.92771e+00  2.45704e-01  2.04128e+00\n",
      "  -1.05881e+00  1.88060e-01 -1.15343e+00  1.07748e-03  1.00937e+00\n",
      "  -1.61225e-01 -5.03239e-02  6.63037e-01  2.11034e+00 -6.61603e-01]\n",
      " [ 2.72164e+00  5.98484e-01  9.22188e-01  4.83158e-01  6.52559e-01\n",
      "  -3.18303e-01 -8.85449e-01  6.09075e-01 -2.03219e+00  7.88295e-01\n",
      "   5.29280e-01 -5.70122e-01  2.03261e-01 -7.33075e-01 -9.59738e-01\n",
      "   9.95132e-01  2.47763e-01  1.96449e+00  2.60057e+00  6.94560e-01\n",
      "   3.16637e-01  1.70157e+00 -1.70093e+00 -1.13565e+00 -1.42514e-01\n",
      "   3.71278e-01  1.11166e-01  1.97686e-01  8.36246e-01  8.31255e-02\n",
      "   6.05479e-01  3.29859e-01 -4.83606e-01 -7.63397e-01 -9.19919e-01\n",
      "   4.97262e-01 -1.26910e-01  1.91384e+00  2.43936e-01  2.02659e+00\n",
      "  -1.05119e+00  1.86706e-01 -1.14513e+00  1.06973e-03  1.00210e+00\n",
      "  -1.60065e-01 -4.99618e-02  6.58265e-01  2.09515e+00 -6.56842e-01]\n",
      " [ 2.73630e+00  6.01709e-01  9.27157e-01  4.85762e-01  6.56075e-01\n",
      "  -3.20018e-01 -8.90220e-01  6.12357e-01 -2.04314e+00  7.92543e-01\n",
      "   5.32132e-01 -5.73195e-01  2.04356e-01 -7.37025e-01 -9.64910e-01\n",
      "   1.00049e+00  2.49098e-01  1.97508e+00  2.61459e+00  6.98303e-01\n",
      "   3.18343e-01  1.71074e+00 -1.71010e+00 -1.14177e+00 -1.43282e-01\n",
      "   3.73279e-01  1.11765e-01  1.98751e-01  8.40752e-01  8.35734e-02\n",
      "   6.08742e-01  3.31636e-01 -4.86212e-01 -7.67511e-01 -9.24876e-01\n",
      "   4.99942e-01 -1.27594e-01  1.92415e+00  2.45251e-01  2.03751e+00\n",
      "  -1.05685e+00  1.87712e-01 -1.15130e+00  1.07549e-03  1.00750e+00\n",
      "  -1.60928e-01 -5.02310e-02  6.61812e-01  2.10644e+00 -6.60381e-01]\n",
      " [ 2.70722e+00  5.95314e-01  9.17303e-01  4.80599e-01  6.49102e-01\n",
      "  -3.16617e-01 -8.80759e-01  6.05849e-01 -2.02142e+00  7.84120e-01\n",
      "   5.26477e-01 -5.67103e-01  2.02184e-01 -7.29192e-01 -9.54655e-01\n",
      "   9.89861e-01  2.46450e-01  1.95409e+00  2.58680e+00  6.90881e-01\n",
      "   3.14959e-01  1.69255e+00 -1.69192e+00 -1.12964e+00 -1.41759e-01\n",
      "   3.69312e-01  1.10577e-01  1.96639e-01  8.31817e-01  8.26852e-02\n",
      "   6.02272e-01  3.28112e-01 -4.81045e-01 -7.59353e-01 -9.15046e-01\n",
      "   4.94628e-01 -1.26238e-01  1.90370e+00  2.42644e-01  2.01585e+00\n",
      "  -1.04562e+00  1.85717e-01 -1.13906e+00  1.06406e-03  9.96797e-01\n",
      "  -1.59217e-01 -4.96972e-02  6.54779e-01  2.08406e+00 -6.53362e-01]\n",
      " [ 2.78242e+00  6.11850e-01  9.42782e-01  4.93948e-01  6.67132e-01\n",
      "  -3.25411e-01 -9.05223e-01  6.22677e-01 -2.07757e+00  8.05900e-01\n",
      "   5.41100e-01 -5.82855e-01  2.07800e-01 -7.49447e-01 -9.81172e-01\n",
      "   1.01736e+00  2.53296e-01  2.00836e+00  2.65865e+00  7.10071e-01\n",
      "   3.23708e-01  1.73957e+00 -1.73892e+00 -1.16101e+00 -1.45697e-01\n",
      "   3.79570e-01  1.13648e-01  2.02101e-01  8.54921e-01  8.49819e-02\n",
      "   6.19001e-01  3.37225e-01 -4.94406e-01 -7.80445e-01 -9.40463e-01\n",
      "   5.08367e-01 -1.29745e-01  1.95658e+00  2.49384e-01  2.07184e+00\n",
      "  -1.07466e+00  1.90876e-01 -1.17070e+00  1.09361e-03  1.02448e+00\n",
      "  -1.63640e-01 -5.10776e-02  6.72966e-01  2.14194e+00 -6.71510e-01]\n",
      " [ 2.71335e+00  5.96660e-01  9.19377e-01  4.81686e-01  6.50570e-01\n",
      "  -3.17333e-01 -8.82751e-01  6.07219e-01 -2.02599e+00  7.85893e-01\n",
      "   5.27667e-01 -5.68385e-01  2.02642e-01 -7.30841e-01 -9.56814e-01\n",
      "   9.92100e-01  2.47008e-01  1.95851e+00  2.59265e+00  6.92444e-01\n",
      "   3.15672e-01  1.69638e+00 -1.69575e+00 -1.13219e+00 -1.42080e-01\n",
      "   3.70147e-01  1.10827e-01  1.97083e-01  8.33698e-01  8.28722e-02\n",
      "   6.03634e-01  3.28854e-01 -4.82133e-01 -7.61071e-01 -9.17116e-01\n",
      "   4.95747e-01 -1.26524e-01  1.90801e+00  2.43193e-01  2.02041e+00\n",
      "  -1.04798e+00  1.86137e-01 -1.14164e+00  1.06647e-03  9.99051e-01\n",
      "  -1.59578e-01 -4.98095e-02  6.56260e-01  2.08877e+00 -6.54840e-01]\n",
      " [ 2.73506e+00  6.01434e-01  9.26734e-01  4.85540e-01  6.55775e-01\n",
      "  -3.19872e-01 -8.89814e-01  6.12078e-01 -2.04220e+00  7.92181e-01\n",
      "   5.31889e-01 -5.72933e-01  2.04263e-01 -7.36689e-01 -9.64470e-01\n",
      "   1.00004e+00  2.48984e-01  1.97418e+00  2.61339e+00  6.97984e-01\n",
      "   3.18198e-01  1.70995e+00 -1.70932e+00 -1.14125e+00 -1.43216e-01\n",
      "   3.73109e-01  1.11714e-01  1.98660e-01  8.40368e-01  8.35353e-02\n",
      "   6.08464e-01  3.31485e-01 -4.85990e-01 -7.67160e-01 -9.24454e-01\n",
      "   4.99714e-01 -1.27536e-01  1.92327e+00  2.45139e-01  2.03658e+00\n",
      "  -1.05637e+00  1.87627e-01 -1.15077e+00  1.07500e-03  1.00704e+00\n",
      "  -1.60854e-01 -5.02081e-02  6.61510e-01  2.10548e+00 -6.60080e-01]\n",
      " [ 2.74874e+00  6.04443e-01  9.31370e-01  4.87969e-01  6.59056e-01\n",
      "  -3.21472e-01 -8.94265e-01  6.15140e-01 -2.05242e+00  7.96144e-01\n",
      "   5.34550e-01 -5.75799e-01  2.05285e-01 -7.40375e-01 -9.69295e-01\n",
      "   1.00504e+00  2.50230e-01  1.98405e+00  2.62647e+00  7.01476e-01\n",
      "   3.19789e-01  1.71851e+00 -1.71787e+00 -1.14696e+00 -1.43933e-01\n",
      "   3.74975e-01  1.12273e-01  1.99654e-01  8.44573e-01  8.39532e-02\n",
      "   6.11508e-01  3.33143e-01 -4.88421e-01 -7.70998e-01 -9.29079e-01\n",
      "   5.02214e-01 -1.28174e-01  1.93289e+00  2.46365e-01  2.04677e+00\n",
      "  -1.06165e+00  1.88565e-01 -1.15653e+00  1.08038e-03  1.01208e+00\n",
      "  -1.61659e-01 -5.04593e-02  6.64820e-01  2.11602e+00 -6.63382e-01]\n",
      " [ 2.71080e+00  5.96100e-01  9.18515e-01  4.81234e-01  6.49960e-01\n",
      "  -3.17035e-01 -8.81922e-01  6.06650e-01 -2.02409e+00  7.85155e-01\n",
      "   5.27172e-01 -5.67852e-01  2.02452e-01 -7.30155e-01 -9.55916e-01\n",
      "   9.91169e-01  2.46776e-01  1.95667e+00  2.59022e+00  6.91794e-01\n",
      "   3.15376e-01  1.69479e+00 -1.69416e+00 -1.13113e+00 -1.41946e-01\n",
      "   3.69800e-01  1.10723e-01  1.96899e-01  8.32915e-01  8.27944e-02\n",
      "   6.03068e-01  3.28545e-01 -4.81680e-01 -7.60356e-01 -9.16255e-01\n",
      "   4.95282e-01 -1.26405e-01  1.90621e+00  2.42965e-01  2.01851e+00\n",
      "  -1.04700e+00  1.85963e-01 -1.14057e+00  1.06546e-03  9.98113e-01\n",
      "  -1.59428e-01 -4.97628e-02  6.55644e-01  2.08681e+00 -6.54225e-01]]\n"
     ]
    }
   ],
   "source": [
    "import numpy as np\n",
    "import cmdstanpy\n",
    "\n",
    "X = x  \n",
    "\n",
    "stan_data = {\n",
    "    'n': n,  # Number of columns in X\n",
    "    'd': d,  # Number of rows in X\n",
    "    'k': k,  # Rank of W and Z\n",
    "    'X': X   # Observed data matrix\n",
    "}\n",
    "\n",
    "stan_model_code = \"\"\"\n",
    "data {\n",
    "  int<lower=1> d;            // number of rows in X\n",
    "  int<lower=1> n;            // number of columns in X\n",
    "  int<lower=1> k;            // rank of W and Z\n",
    "  matrix[d, n] X;            // observed data matrix\n",
    "}\n",
    "\n",
    "parameters {\n",
    "  matrix[d, k] W;            // matrix W of size d x k\n",
    "  matrix[n, k] Z;            // matrix Z of size n x k\n",
    "}\n",
    "\n",
    "model {\n",
    "  // Priors\n",
    "  for (j in 1:k)\n",
    "    W[:, j] ~ normal(0, 1);   // Prior on W\n",
    "  for (i in 1:n)\n",
    "    Z[i, ] ~ normal(0, 1);    // Prior on Z\n",
    "\n",
    "  // Fixed tau = 100\n",
    "  real tau = 100;\n",
    "\n",
    "  // Likelihood\n",
    "  to_vector(X) ~ normal(to_vector(W * Z'), sqrt(1 / tau));\n",
    "}\n",
    "\n",
    "generated quantities {\n",
    "  matrix[d, n] X_hat;\n",
    "  X_hat = W * Z';             // Posterior predictive mean for X\n",
    "}\n",
    "\"\"\"\n",
    "\n",
    "\n",
    "with open('model.stan', 'w') as f:\n",
    "    f.write(stan_model_code)\n",
    "\n",
    "\n",
    "model = cmdstanpy.CmdStanModel(stan_file='model.stan')\n",
    "\n",
    "\n",
    "fit = model.variational(data=stan_data, algorithm='fullrank', iter=10000)\n",
    "\n",
    "posterior = fit.stan_variable('X_hat')\n",
    "\n",
    "\n",
    "print(\"Shape of posterior:\", posterior.shape)\n",
    "\n",
    "\n",
    "try:\n",
    "    posterior_mean = posterior.reshape(d, n)  \n",
    "    print(\"Posterior mean of WZ' using ADVI:\")\n",
    "    print(posterior_mean)\n",
    "except ValueError as e:\n",
    "    print(f\"Error reshaping posterior: {e}\")\n",
    "    print(\"Posterior:\", posterior)  # Print the raw posterior for further inspection\n"
   ]
  },
  {
   "cell_type": "code",
   "execution_count": 23,
   "id": "265dcacb",
   "metadata": {},
   "outputs": [
    {
     "data": {
      "text/plain": [
       "0.6356805576521761"
      ]
     },
     "execution_count": 23,
     "metadata": {},
     "output_type": "execute_result"
    }
   ],
   "source": [
    "norm_of_error_esimated_data = np.linalg.norm((posterior_mean-x0),ord=2)\n",
    "norm_of_error_esimated_data"
   ]
  },
  {
   "cell_type": "code",
   "execution_count": 24,
   "id": "2736427f",
   "metadata": {},
   "outputs": [
    {
     "data": {
      "text/plain": [
       "array([0.369065, 0.368509, 0.376813, 0.37397 , 0.371278, 0.373279,\n",
       "       0.369312, 0.37957 , 0.370147, 0.373109, 0.374975, 0.3698  ])"
      ]
     },
     "execution_count": 24,
     "metadata": {},
     "output_type": "execute_result"
    }
   ],
   "source": [
    "posterior_mean[:,25]"
   ]
  },
  {
   "cell_type": "code",
   "execution_count": 8,
   "id": "9661eae7",
   "metadata": {},
   "outputs": [
    {
     "name": "stderr",
     "output_type": "stream",
     "text": [
      "19:22:47 - cmdstanpy - INFO - compiling stan file /Users/arghyadatta/Downloads/Probabilistic-and-Bayesian-PCA-master/model.stan to exe file /Users/arghyadatta/Downloads/Probabilistic-and-Bayesian-PCA-master/model\n",
      "19:23:01 - cmdstanpy - INFO - compiled model executable: /Users/arghyadatta/Downloads/Probabilistic-and-Bayesian-PCA-master/model\n",
      "19:23:01 - cmdstanpy - INFO - CmdStan start processing\n"
     ]
    },
    {
     "data": {
      "application/vnd.jupyter.widget-view+json": {
       "model_id": "9300f6f2523642ea82aada89129a2b11",
       "version_major": 2,
       "version_minor": 0
      },
      "text/plain": [
       "chain 1 |          | 00:00 Status"
      ]
     },
     "metadata": {},
     "output_type": "display_data"
    },
    {
     "name": "stdout",
     "output_type": "stream",
     "text": [
      "                                                                                "
     ]
    },
    {
     "name": "stderr",
     "output_type": "stream",
     "text": [
      "20:38:51 - cmdstanpy - INFO - CmdStan done processing.\n"
     ]
    },
    {
     "name": "stdout",
     "output_type": "stream",
     "text": [
      "\n",
      "Posterior mean of WZ':\n",
      "[[ 2.68605844  0.59918498  0.91531478  0.46712229  0.64804212 -0.31738265\n",
      "  -0.88133914  0.59632596 -2.00755578  0.77794907  0.52044017 -0.56936584\n",
      "   0.20393552 -0.72562583 -0.94455257  0.99322394  0.23809058  1.94559281\n",
      "   2.57241799  0.69185226  0.32157744  1.68611348 -1.68218334 -1.12893282\n",
      "  -0.14130245  0.37132556  0.10759578  0.19837986  0.8305506   0.07582987\n",
      "   0.60943092  0.32533336 -0.46551309 -0.75684976 -0.91203844  0.49802818\n",
      "  -0.12748307  1.8929572   0.24367337  2.00534001 -1.03908057  0.18806187\n",
      "  -1.12479088  0.00478931  0.98654605 -0.15540406 -0.0442564   0.66078053\n",
      "   2.08108262 -0.64629865]\n",
      " [ 2.69069138  0.60021572  0.91689738  0.46792705  0.64916212 -0.31793174\n",
      "  -0.88286099  0.5973525  -2.01101741  0.77929073  0.52133563 -0.57034987\n",
      "   0.20428535 -0.7268792  -0.94618339  0.9949364   0.23849987  1.9489458\n",
      "   2.57685472  0.69304436  0.32213252  1.68902323 -1.68508396 -1.13087758\n",
      "  -0.14154495  0.37196594  0.10778534  0.19872286  0.83198225  0.07596109\n",
      "   0.61048072  0.32589238 -0.46631596 -0.75815136 -0.91361017  0.49888495\n",
      "  -0.12769932  1.89622387  0.24409214  2.00879816 -1.04087235  0.18838445\n",
      "  -1.12672979  0.00479308  0.98824784 -0.15566802 -0.04433136  0.66191897\n",
      "   2.08467234 -0.64741374]\n",
      " [ 2.75727238  0.61507386  0.93958509  0.47950632  0.66522657 -0.32580422\n",
      "  -0.90470817  0.61213572 -2.06078203  0.79857513  0.53423669 -0.58446413\n",
      "   0.20934267 -0.74486422 -0.96959591  1.01955618  0.24440156  1.99717647\n",
      "   2.64062167  0.71019441  0.33010332  1.73082064 -1.72678305 -1.15886151\n",
      "  -0.14504748  0.38116951  0.11044816  0.20363951  0.85257156  0.07783585\n",
      "   0.62558848  0.33395708 -0.47785749 -0.77691441 -0.93621926  0.51122936\n",
      "  -0.13086366  1.94314455  0.25013102  2.05850274 -1.06662785  0.19304531\n",
      "  -1.15461369  0.00491102  1.01270366 -0.15952148 -0.0454295   0.67829723\n",
      "   2.13625819 -0.66343426]\n",
      " [ 2.731219    0.60925872  0.93070647  0.47497905  0.65893995 -0.32271878\n",
      "  -0.89616015  0.60635236 -2.04130966  0.79102538  0.52919084 -0.57894141\n",
      "   0.20736163 -0.73782688 -0.96043796  1.00992103  0.24209187  1.97830234\n",
      "   2.61566756  0.70348464  0.32697991  1.71446222 -1.71046547 -1.14791364\n",
      "  -0.14367632  0.37756653  0.1094046   0.20171461  0.84451487  0.07710316\n",
      "   0.61967597  0.33079997 -0.47334243 -0.76957521 -0.92737163  0.50640053\n",
      "  -0.12962652  1.92478424  0.24777126  2.03905477 -1.05655311  0.19122322\n",
      "  -1.14370302  0.00486493  1.00313482 -0.15801183 -0.04500169  0.67189035\n",
      "   2.11606957 -0.65716431]\n",
      " [ 2.71458228  0.60554645  0.92503707  0.47208333  0.6549227  -0.32075259\n",
      "  -0.8907018   0.60265786 -2.02887624  0.78620675  0.5259673  -0.5754126\n",
      "   0.20609856 -0.73333313 -0.95458365  1.00377222  0.24061855  1.96625177\n",
      "   2.59973515  0.69920069  0.32499367  1.70401953 -1.70004347 -1.14091741\n",
      "  -0.14280352  0.37526862  0.10873953  0.20048274  0.83937044  0.07663588\n",
      "   0.61590288  0.328787   -0.47045914 -0.76488552 -0.92172511  0.50331669\n",
      "  -0.12883568  1.91305899  0.2462599   2.02663711 -1.05011733  0.19005296\n",
      "  -1.1367324   0.00483623  0.99702519 -0.15705292 -0.04472675  0.6677935\n",
      "   2.10318157 -0.65316243]\n",
      " [ 2.74137769  0.61152728  0.9341708   0.47673858  0.66139148 -0.32391973\n",
      "  -0.89949624  0.60860985 -2.04890613  0.79397077  0.53115802 -0.58109303\n",
      "   0.20813463 -0.74057418 -0.96400729  1.01368102  0.24299522  1.98566195\n",
      "   2.62539916  0.70610002  0.32820277  1.72084218 -1.71682935 -1.15218358\n",
      "  -0.14421137  0.37897419  0.10981189  0.20246822  0.84765567  0.07738891\n",
      "   0.6219781   0.33203456 -0.47510275 -0.77243423 -0.93082445  0.50828726\n",
      "  -0.1301084   1.93194373  0.24869184  2.04664016 -1.06048439  0.19193077\n",
      "  -1.1479578   0.00488682  1.00686406 -0.15860013 -0.04516704  0.67439237\n",
      "   2.12394527 -0.65960906]\n",
      " [ 2.71002712  0.60453472  0.92348544  0.47129019  0.65382653 -0.32021356\n",
      "  -0.8892064   0.60164725 -2.02547106  0.78488858  0.5250851  -0.57444943\n",
      "   0.20575346 -0.73210336 -0.95298512  1.00209028  0.24021295  1.96295247\n",
      "   2.59537425  0.6980264   0.32444368  1.70116128 -1.69719335 -1.13900434\n",
      "  -0.1425615   0.37463838  0.10855654  0.20014716  0.83796064  0.07650779\n",
      "   0.61486905  0.32823686 -0.4696687  -0.76360215 -0.92017802  0.50247204\n",
      "  -0.12861859  1.90984794  0.24584714  2.02323597 -1.04835076  0.18973994\n",
      "  -1.13482584  0.0048294   0.9953503  -0.15678843 -0.04465078  0.66667581\n",
      "   2.09965136 -0.65206225]\n",
      " [ 2.75567903  0.61471426  0.93904319  0.47922799  0.66484157 -0.32561091\n",
      "  -0.90418837  0.61178391 -2.059593    0.79811211  0.5339297  -0.58412798\n",
      "   0.20922209 -0.74443393 -0.96903994  1.01896794  0.24426053  1.99602277\n",
      "   2.6390968   0.70978643  0.32991011  1.72981805 -1.72578573 -1.15819422\n",
      "  -0.14496664  0.38095018  0.11038496  0.20352224  0.8520791   0.07779486\n",
      "   0.62522461  0.33376635 -0.47758309 -0.77646592 -0.9356809   0.51093969\n",
      "  -0.13078555  1.94202382  0.24998988  2.05731849 -1.06601466  0.19293392\n",
      "  -1.15394557  0.00490996  1.01211849 -0.15943137 -0.04540392  0.67790846\n",
      "   2.1350245  -0.6630507 ]\n",
      " [ 2.70607207  0.60365189  0.92213892  0.4705998   0.65287335 -0.31974835\n",
      "  -0.88791019  0.60077001 -2.0225158   0.78374703  0.52431635 -0.57360781\n",
      "   0.20545274 -0.73103675 -0.95159302  1.00062474  0.23986429  1.96008969\n",
      "   2.59158619  0.69700745  0.323973    1.69867943 -1.69471737 -1.13734351\n",
      "  -0.14235392  0.37409303  0.10839808  0.19985829  0.83673974  0.07639297\n",
      "   0.61396986  0.32775718 -0.46898298 -0.76248644 -0.91883473  0.50173789\n",
      "  -0.12843246  1.90706357  0.24548541  2.02028069 -1.04682484  0.18945966\n",
      "  -1.13317213  0.00482717  0.99389866 -0.1565607  -0.04458494  0.6657037\n",
      "   2.09659046 -0.65111425]\n",
      " [ 2.73252879  0.60955334  0.93115308  0.47520261  0.65925507 -0.32287793\n",
      "  -0.89659226  0.60664478 -2.04229001  0.79140595  0.52944497 -0.57921815\n",
      "   0.20746044 -0.73817866 -0.96089477  1.01040924  0.24220973  1.97925122\n",
      "   2.61692241  0.70382181  0.32714036  1.71528578 -1.71128577 -1.14846196\n",
      "  -0.14374541  0.3777509   0.10945925  0.201811    0.84491909  0.07714286\n",
      "   0.61997346  0.33096099 -0.47356553 -0.76994007 -0.92781906  0.50664611\n",
      "  -0.12968874  1.925709    0.24788537  2.04003212 -1.05705865  0.19131211\n",
      "  -1.14425082  0.00486761  1.00361353 -0.15808789 -0.04502031  0.67221235\n",
      "   2.11708771 -0.65747884]\n",
      " [ 2.70533785  0.60348795  0.92188695  0.47047779  0.65269695 -0.31965903\n",
      "  -0.88767095  0.6006085  -2.02196713  0.78353302  0.52417533 -0.57345683\n",
      "   0.2053982  -0.73083566 -0.9513327   1.00035462  0.23979947  1.95955971\n",
      "   2.59088445  0.69682116  0.32388412  1.69821787 -1.69425909 -1.13703752\n",
      "  -0.14231505  0.37399093  0.10836835  0.19980333  0.8365143   0.07637283\n",
      "   0.61380602  0.32766866 -0.46885511 -0.76227959 -0.91858844  0.50160402\n",
      "  -0.12839875  1.90654747  0.24542276  2.01973597 -1.04654058  0.18940872\n",
      "  -1.13286474  0.0048229   0.99362918 -0.15651682 -0.04457289  0.66552435\n",
      "   2.09602348 -0.65093773]\n",
      " [ 2.7095795   0.60443229  0.92333409  0.4712085   0.65371873 -0.3201626\n",
      "  -0.88906037  0.60155019 -2.02513731  0.78475834  0.52499655 -0.57435373\n",
      "   0.20572075 -0.73198272 -0.95282377  1.00191966  0.24017674  1.96263248\n",
      "   2.59494529  0.69791117  0.32439385  1.70088093 -1.69691444 -1.13881679\n",
      "  -0.14253647  0.37457705  0.10854083  0.20011488  0.83782341  0.07649097\n",
      "   0.61476624  0.3281835  -0.46959488 -0.76347499 -0.92002504  0.50238786\n",
      "  -0.12859648  1.90953517  0.24580932  2.02290089 -1.04817937  0.18970376\n",
      "  -1.13463732  0.00482856  0.99518415 -0.15676123 -0.04464394  0.66656705\n",
      "   2.09930325 -0.6519605 ]]\n"
     ]
    }
   ],
   "source": [
    "import numpy as np\n",
    "import cmdstanpy\n",
    "\n",
    "\n",
    "X = x\n",
    "\n",
    "\n",
    "stan_data = {\n",
    "    'n': n,\n",
    "    'd': d,\n",
    "    'k': k,\n",
    "    'X': X\n",
    "}\n",
    "\n",
    "\n",
    "\n",
    "init_W = np.full((d, 1), 0.1)\n",
    "init_Z = np.full((n, 1), 0.1)\n",
    "\n",
    "\n",
    "init_values = [\n",
    "    {'W': init_W, 'Z': init_Z}\n",
    "]\n",
    "\n",
    "stan_model_code = \"\"\"\n",
    "data {\n",
    "  int<lower=1> d;            // number of rows in X\n",
    "  int<lower=1> n;            // number of columns in X\n",
    "  int<lower=1> k;            // rank of W and Z\n",
    "  matrix[d, n] X;            // observed data matrix\n",
    "}\n",
    "\n",
    "parameters {\n",
    "  matrix[d, k] W;            // matrix W of size d x k\n",
    "  matrix[n, k] Z;            // matrix Z of size n x k\n",
    "}\n",
    "\n",
    "model {\n",
    "  // Priors\n",
    "  for (j in 1:k)\n",
    "    W[:, j] ~ normal(0, 1);   // Prior on W\n",
    "  for (i in 1:n)\n",
    "    Z[i, ] ~ normal(0, 1);    // Prior on Z\n",
    "\n",
    "  // Fixed tau = 100\n",
    "  real tau = 100;\n",
    "\n",
    "  // Likelihood\n",
    "  to_vector(X) ~ normal(to_vector(W * Z'), sqrt(1 / tau));\n",
    "}\n",
    "\n",
    "generated quantities {\n",
    "  matrix[d, n] X_hat;\n",
    "  X_hat = W * Z';             // Posterior predictive mean for X\n",
    "}\n",
    "\"\"\"\n",
    "\n",
    "with open('model.stan', 'w') as f:\n",
    "    f.write(stan_model_code)\n",
    "\n",
    "\n",
    "model = cmdstanpy.CmdStanModel(stan_file='model.stan')\n",
    "\n",
    "fit = model.sample(\n",
    "    data=stan_data, \n",
    "    iter_sampling=2000000, \n",
    "    iter_warmup=1000000, \n",
    "    chains=1,\n",
    "    inits=init_values\n",
    ")\n",
    "\n",
    "posterior = fit.stan_variable('X_hat')\n",
    "posterior_mean = np.mean(posterior, axis=0)  # Mean of WZ' with respect to the posterior\n",
    "\n",
    "print(\"Posterior mean of WZ':\")\n",
    "print(posterior_mean)"
   ]
  },
  {
   "cell_type": "code",
   "execution_count": 9,
   "id": "fa6a5160",
   "metadata": {},
   "outputs": [
    {
     "data": {
      "text/plain": [
       "0.6234577329355171"
      ]
     },
     "execution_count": 9,
     "metadata": {},
     "output_type": "execute_result"
    }
   ],
   "source": [
    "norm_of_error_esimated_data = np.linalg.norm((posterior_mean-x0),ord=2)\n",
    "norm_of_error_esimated_data"
   ]
  },
  {
   "cell_type": "code",
   "execution_count": 10,
   "id": "9225e3ef",
   "metadata": {},
   "outputs": [
    {
     "data": {
      "text/plain": [
       "array([0.37132556, 0.37196594, 0.38116951, 0.37756653, 0.37526862,\n",
       "       0.37897419, 0.37463838, 0.38095018, 0.37409303, 0.3777509 ,\n",
       "       0.37399093, 0.37457705])"
      ]
     },
     "execution_count": 10,
     "metadata": {},
     "output_type": "execute_result"
    }
   ],
   "source": [
    "posterior_mean[:,25] #after 3 million iterations"
   ]
  },
  {
   "cell_type": "code",
   "execution_count": null,
   "id": "9747286f",
   "metadata": {},
   "outputs": [],
   "source": [
    "array([0.37129185, 0.3719278 , 0.38113738, 0.37752904, 0.3752244 ,\n",
    "       0.37893549, 0.37460343, 0.38092507, 0.37405588, 0.37772616,\n",
    "       0.37395984, 0.3745464 ])\n",
    "\n",
    "#after 300,000 iteration"
   ]
  },
  {
   "cell_type": "code",
   "execution_count": 12,
   "id": "f75b509c",
   "metadata": {},
   "outputs": [
    {
     "data": {
      "text/plain": [
       "array([0.39052784, 0.39052784, 0.39052784, 0.39052784, 0.39052784,\n",
       "       0.39052784, 0.39052784, 0.39052784, 0.39052784, 0.39052784,\n",
       "       0.39052784, 0.39052784])"
      ]
     },
     "execution_count": 12,
     "metadata": {},
     "output_type": "execute_result"
    }
   ],
   "source": [
    "x0[:,25]"
   ]
  },
  {
   "cell_type": "code",
   "execution_count": null,
   "id": "7509a9a3",
   "metadata": {},
   "outputs": [],
   "source": []
  }
 ],
 "metadata": {
  "kernelspec": {
   "display_name": "Python 3 (ipykernel)",
   "language": "python",
   "name": "python3"
  },
  "language_info": {
   "codemirror_mode": {
    "name": "ipython",
    "version": 3
   },
   "file_extension": ".py",
   "mimetype": "text/x-python",
   "name": "python",
   "nbconvert_exporter": "python",
   "pygments_lexer": "ipython3",
   "version": "3.9.7"
  }
 },
 "nbformat": 4,
 "nbformat_minor": 5
}
